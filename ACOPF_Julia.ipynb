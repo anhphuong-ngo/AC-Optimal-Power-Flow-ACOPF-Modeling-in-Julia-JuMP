{
 "cells": [
  {
   "cell_type": "markdown",
   "id": "fccc1023",
   "metadata": {},
   "source": [
    "# AC Optimial Power FLow (ACOPF) - Julia JuMP\n",
    "This repository contains the supplementary material for the paper entitled \"On the comparison of different convexified power flow models in radial network\" published on IEEE Xplore: https://ieeexplore.ieee.org/stamp/stamp.jsp?arnumber=9814764\n",
    "\n",
    "Implementation on Python - CVXPY can be found at: https://github.com/HieuNguyenNCAT/Distribution-Power-Flows-Using-Connic-Programming\n",
    "\n",
    "In the repsitory, the code of following sections are provided:\n",
    "1. Read data from MATPOWER\n",
    "2. Bus injection model\n",
    "3. Branch flows model"
   ]
  },
  {
   "cell_type": "markdown",
   "id": "fc3cd731",
   "metadata": {},
   "source": [
    "# Libaries Declaration"
   ]
  },
  {
   "cell_type": "code",
   "execution_count": 2,
   "id": "50561df1",
   "metadata": {},
   "outputs": [],
   "source": [
    "using JuMP\n",
    "using LinearAlgebra\n",
    "using Random\n",
    "\n",
    "# using CUDA\n",
    "# using CUDA_jll\n",
    "# using SCS\n",
    "using CPLEX\n",
    "using Gurobi\n",
    "using MATLAB\n",
    "using MAT"
   ]
  },
  {
   "cell_type": "markdown",
   "id": "7a191eb4",
   "metadata": {},
   "source": [
    "# Read data from MATPOWER"
   ]
  },
  {
   "cell_type": "code",
   "execution_count": 3,
   "id": "ace1f381",
   "metadata": {},
   "outputs": [
    {
     "data": {
      "text/plain": [
       "32×1 Matrix{Float64}:\n",
       " 1.0\n",
       " 1.0\n",
       " 1.0\n",
       " 1.0\n",
       " 1.0\n",
       " 1.0\n",
       " 1.0\n",
       " 1.0\n",
       " 1.0\n",
       " 1.0\n",
       " 1.0\n",
       " 1.0\n",
       " 1.0\n",
       " ⋮\n",
       " 1.0\n",
       " 1.0\n",
       " 1.0\n",
       " 1.0\n",
       " 1.0\n",
       " 1.0\n",
       " 1.0\n",
       " 1.0\n",
       " 1.0\n",
       " 1.0\n",
       " 1.0\n",
       " 1.0"
      ]
     },
     "execution_count": 3,
     "metadata": {},
     "output_type": "execute_result"
    }
   ],
   "source": [
    "filedata = matopen(\"Radial_Netdata.mat\")\n",
    "data = matread(\"Radial_Netdata.mat\")\n",
    "#Default = case33bw\n",
    "case = \"case33bw\"\n",
    "\n",
    "r = data[\"r\"]\n",
    "x = data[\"x\"]\n",
    "slack_bus = 1 #Julia indexing starts from 1, not as Python to starts from 1\n",
    "I = length(data[\"Pd\"])\n",
    "G = data[\"G\"]\n",
    "B = -data[\"B\"]\n",
    "MVAlim = data[\"MVAlim\"]\n",
    "status = data[\"status\"]\n",
    "\n",
    "\n",
    "# println(L)"
   ]
  },
  {
   "cell_type": "markdown",
   "id": "dd73e055",
   "metadata": {},
   "source": [
    "Define a connex function to check whether a pair of node $i,j=\\ell \\in \\mathcal{L}$"
   ]
  },
  {
   "cell_type": "code",
   "execution_count": 4,
   "id": "25658b5a",
   "metadata": {},
   "outputs": [
    {
     "data": {
      "text/plain": [
       "connex (generic function with 1 method)"
      ]
     },
     "execution_count": 4,
     "metadata": {},
     "output_type": "execute_result"
    }
   ],
   "source": [
    "# Define connex function\n",
    "function connex(i,j,data) #return 1 of (i,j) or (j,i) is a \"connected\" line\n",
    "    temp = false\n",
    "    for line in 1:32\n",
    "        z1 = (i == data[\"from_bus\"][line]) && (j == data[\"to_bus\"][line]) #Julia indexing starts from 1\n",
    "        z2 = (j == data[\"from_bus\"][line]) && (i == data[\"to_bus\"][line])\n",
    "        z3 = (data[\"status\"][line]==1) #some lines are open switches\n",
    "        z  = (z1 || z2) && z3\n",
    "        temp = temp || z\n",
    "    end\n",
    "    return temp\n",
    "end"
   ]
  },
  {
   "cell_type": "markdown",
   "id": "167f15e0",
   "metadata": {},
   "source": [
    "Normalize the data from MATPOWER"
   ]
  },
  {
   "cell_type": "code",
   "execution_count": 5,
   "id": "f55ba768",
   "metadata": {},
   "outputs": [
    {
     "name": "stdout",
     "output_type": "stream",
     "text": [
      "[270.0; 270.0; 270.0; 270.0; 270.0; 270.0; 270.0; 270.0; 270.0; 270.0; 270.0; 270.0; 270.0; 270.0; 270.0; 270.0; 270.0; 270.0; 270.0; 270.0; 270.0; 270.0; 270.0; 270.0; 270.0; 270.0; 270.0; 270.0; 270.0; 270.0; 270.0; 270.0;;][0.05752591161723931; 0.3075951673242839; 0.22835665566062455; 0.23777792751984705; 0.5109948114372992; 0.11679881404281126; 0.4438604503742304; 0.642643047350938; 0.6513780013926013; 0.12266371175649943; 0.2335976280856225; 0.9159223237972591; 0.33791793635462913; 0.36873984561592654; 0.4656354429495194; 0.8042396971217077; 0.4567133113212491; 0.10232374734519789; 0.9385084192478456; 0.2554974057186496; 0.4423006371525048; 0.28151509025703225; 0.5602849092438275; 0.559037058666447; 0.12665683360411692; 0.17731956704576368; 0.6607368807229547; 0.5017607171646838; 0.3166420840102922; 0.6079528012997611; 0.19372880213831675; 0.2127585234433688;;]\n"
     ]
    }
   ],
   "source": [
    "print(MVAlim)\n",
    "if case == \"case18\"\n",
    "    scale = 10\n",
    "else\n",
    "    scale = 1\n",
    "end\n",
    "data[\"Sbase\"] = scale*data[\"Sbase\"]\n",
    "r = r*scale\n",
    "x = x*scale\n",
    "data[\"gs\"] = data[\"gs\"]/scale\n",
    "data[\"bs\"] = data[\"bs\"]/scale\n",
    "\n",
    "println(r)"
   ]
  },
  {
   "cell_type": "markdown",
   "id": "8133c129",
   "metadata": {},
   "source": [
    "# Modelling"
   ]
  },
  {
   "cell_type": "markdown",
   "id": "6a98804f",
   "metadata": {},
   "source": [
    "## Model and variables definition\n",
    "\n",
    "Let's define variables: $P_{ij}, Q_{ij}, R_\\ell, T_\\ell, V^{sq}_i, I^{sq}_\\ell$,\n",
    "and define the constraint set"
   ]
  },
  {
   "cell_type": "code",
   "execution_count": 6,
   "id": "78b8f977",
   "metadata": {},
   "outputs": [
    {
     "name": "stdout",
     "output_type": "stream",
     "text": [
      "Set parameter Username\r\n",
      "Academic license - for non-commercial use only - expires 2023-05-05\r\n"
     ]
    }
   ],
   "source": [
    "model = Model(optimizer_with_attributes(Gurobi.Optimizer))\n",
    "\n",
    "@variable(model, P[i=1:I,j=1:I]);\n",
    "@variable(model, Q[i=1:I,j=1:I]);\n",
    "@variable(model, R[1:32] >= 0);\n",
    "@variable(model, T[1:32]);\n",
    "@variable(model, Vsq[i=1:I]);\n",
    "@variable(model, Isq[i=1:I] >= 0);"
   ]
  },
  {
   "cell_type": "markdown",
   "id": "ab45efb2",
   "metadata": {},
   "source": [
    "## Voltage limits constraint:\n",
    "$(\\underline{V}_i)^2 \\leq V_{i}^{sq} \\leq (\\overline{V}_i)^2 , \\quad \\forall i \\in \\mathcal{I}$"
   ]
  },
  {
   "cell_type": "code",
   "execution_count": 7,
   "id": "c0f8d21c",
   "metadata": {},
   "outputs": [
    {
     "data": {
      "text/latex": [
       "$$ Vsq_{1} = 1.0 $$"
      ],
      "text/plain": [
       "Vsq[1] == 1.0"
      ]
     },
     "execution_count": 7,
     "metadata": {},
     "output_type": "execute_result"
    }
   ],
   "source": [
    "for i in 1:I\n",
    "    if i != slack_bus\n",
    "       @constraint(model, (data[\"Vmin\"][i])^2 <= Vsq[i] <= (data[\"Vmax\"][i])^2)\n",
    "    end\n",
    "end\n",
    "\n",
    "if case == \"case18\"\n",
    "    @constraint(model, Vsq[slack_bus] == 1.1)\n",
    "else\n",
    "    @constraint(model, Vsq[slack_bus] == 1)\n",
    "end"
   ]
  },
  {
   "cell_type": "markdown",
   "id": "3dd52fae",
   "metadata": {},
   "source": [
    "## The line power flow equations $P_{ij}, P_{ji}, Q_{ij}, Q_{ji}$ and the squared line current $I^{sq}_\\ell$:  \n",
    "$P_{ij} = \\frac{1}{r^2_{\\ell} + x^2_\\ell} \\left( r_{\\ell} V_{i}^{sq} - r_\\ell R_{\\ell} + x_\\ell T_{\\ell} \\right), \\quad \\forall \\ell = ij \\in \\mathcal{L}$\n",
    "\n",
    "$Q_{ij} = \\frac{1}{r^2_{\\ell} + x^2_\\ell} \\left( x_{\\ell} V_{i}^{sq} - x_\\ell R_{\\ell} - x_\\ell T_{\\ell} \\right), \\quad \\forall \\ell = ij \\in \\mathcal{L}$\n",
    "\n",
    "$P_{ji} = \\frac{1}{r^2_{\\ell} + x^2_\\ell} \\left( r_{\\ell} V_{j}^{sq} - r_\\ell R_{\\ell} - x_\\ell T_{\\ell} \\right), \\quad \\forall \\ell = ij \\in \\mathcal{L}$\n",
    "\n",
    "$Q_{ji} = \\frac{1}{r^2_{\\ell} + x^2_\\ell} \\left( x_{\\ell} V_{j}^{sq} - x_\\ell R_{\\ell} + x_\\ell T_{\\ell} \\right), \\quad \\forall \\ell = ij \\in \\mathcal{L}$\n",
    "\n",
    "$I^{sq}_{\\ell} = \\frac{1}{r^2_{\\ell} + x^2_\\ell} \\left( V_{i}^{sq} + V_{j}^{sq} - 2R_{\\ell} \\right), \\quad  \\forall \\ell = ij \\in \\mathcal{L}$"
   ]
  },
  {
   "cell_type": "code",
   "execution_count": 8,
   "id": "170c7893",
   "metadata": {},
   "outputs": [],
   "source": [
    "for line in 1:32\n",
    "    i = floor(Int,data[\"from_bus\"][line])\n",
    "    j = floor(Int,data[\"to_bus\"][line])\n",
    "    \n",
    "#     println(i)\n",
    "#     println(j)\n",
    "    if status[line] == 1\n",
    "        @constraint(model, P[i,j] == (r[line]*Vsq[i] - r[line]*R[line]+ x[line]*T[line])/(r[line]^2 + x[line]^2))\n",
    "        @constraint(model, Q[i,j] == (x[line]*Vsq[i] - x[line]*R[line]- r[line]*T[line])/(r[line]^2 + x[line]^2))\n",
    "        @constraint(model, P[j,i] == (r[line]*Vsq[j] - r[line]*R[line]- x[line]*T[line])/(r[line]^2 + x[line]^2))\n",
    "        @constraint(model, Q[j,i] == (x[line]*Vsq[j] - x[line]*R[line]+ r[line]*T[line])/(r[line]^2 + x[line]^2))\n",
    "        @constraint(model, Isq[line]  == (Vsq[i]+Vsq[j] - 2*R[line])/(r[line]^2 + x[line]^2))\n",
    "    end\n",
    "end"
   ]
  },
  {
   "cell_type": "markdown",
   "id": "25695115",
   "metadata": {},
   "source": [
    "## The active and reactive power balance constraints:  \n",
    "$P^d_{i} + \\sum_{j \\in \\mathcal{N} \\left(i \\right)} P_{ij} = 0, \\quad \\forall i \\in \\mathcal{I}$\n",
    "\n",
    "$Q^d_{i} + \\sum_{j \\in \\mathcal{N} \\left( i \\right)} Q_{ij} = 0, \\quad \\forall i \\in \\mathcal{I}$"
   ]
  },
  {
   "cell_type": "code",
   "execution_count": 9,
   "id": "ebc3fec6",
   "metadata": {},
   "outputs": [],
   "source": [
    "bus_Pinjection = [-sum(P[i,j] for j in 1:I if connex(i,j,data)) for i in 1:I]\n",
    "bus_Qinjection = [-sum(Q[i,j] for j in 1:I if connex(i,j,data)) for i in 1:I]\n",
    "\n",
    "for i in 1:I\n",
    "    if i != slack_bus\n",
    "        @constraint(model, bus_Pinjection[i] + data[\"gs\"][i]*Vsq[i] == data[\"Pd\"][i]/data[\"Sbase\"])\n",
    "        @constraint(model, bus_Qinjection[i] + data[\"bs\"][i]*Vsq[i] == data[\"Qd\"][i]/data[\"Sbase\"])\n",
    "    end\n",
    "end"
   ]
  },
  {
   "attachments": {},
   "cell_type": "markdown",
   "id": "c4c80ca6",
   "metadata": {},
   "source": [
    "## The SOC constraint:  \n",
    "The rotated conic constraint $(R_{\\ell})^2 + (T_{\\ell})^2 \\leq V_{i}^{sq} V_{j}^{sq}, ~ R_{\\ell}  \\geq 0,  \\quad \\forall \\ell = ij \\in \\mathcal{L}$ \n",
    "can be implemented by \n",
    "\n"
   ]
  },
  {
   "cell_type": "code",
   "execution_count": 10,
   "id": "3b0ab04c",
   "metadata": {},
   "outputs": [],
   "source": [
    "for line in 1:32\n",
    "    if status[line] == 1\n",
    "        i = floor(Int,data[\"from_bus\"][line])\n",
    "        j = floor(Int,data[\"to_bus\"][line])\n",
    "        \n",
    "        # Rotated cone syntax: [t,x,u1,u2] in RotatedSecondOrderCone() means norm2(u1,u2) <= 2tx\n",
    "        @constraint(model, [Vsq[i], 0.5*Vsq[j], R[line], T[line]] in RotatedSecondOrderCone())\n",
    "        \n",
    "        # Second-order cone syntax: [y,x1,x2,x3] in SecondOrderCone() means norm2(x1,x2,x3) <= y\n",
    "#         @constraint(model, [0.5*(Vsq[i] + Vsq[j]), R[line], T[line], 0.5*(Vsq[i] - Vsq[j])] in SecondOrderCone())\n",
    "        \n",
    "        # Quadratic constraint\n",
    "#         @constraint(model, R[line]^2 + T[line]^2 + (0.5*(Vsq[i] - Vsq[j]))^2 <= (0.5*(Vsq[i] + Vsq[j]))^2)\n",
    "    end\n",
    "end"
   ]
  },
  {
   "cell_type": "markdown",
   "id": "6c39ca51",
   "metadata": {},
   "source": [
    "## Objective function: $\\min P^{\\sf grid}$\n",
    "\n",
    "In this paper, we tested the model with CPLEX and MOSEK. Many other solvers can be called by JuMP if installed."
   ]
  },
  {
   "cell_type": "code",
   "execution_count": 11,
   "id": "912f1f4e",
   "metadata": {},
   "outputs": [
    {
     "name": "stdout",
     "output_type": "stream",
     "text": [
      "Gurobi Optimizer version 9.5.2 build v9.5.2rc0 (win64)\r\n",
      "Thread count: 6 physical cores, 12 logical processors, using up to 12 threads\r\n",
      "Optimize a model with 385 rows, 2468 columns and 1151 nonzeros\r\n",
      "Model fingerprint: 0x7f334be6\r\n",
      "Model has 32 quadratic constraints\r\n",
      "Coefficient statistics:\r\n",
      "  Matrix range     [4e-01, 5e+02]\r\n",
      "  QMatrix range    [1e+00, 1e+00]\r\n",
      "  Objective range  [1e+02, 1e+02]\r\n",
      "  Bounds range     [8e-01, 1e+00]\r\n",
      "  RHS range        [1e-04, 1e+00]\r\n",
      "Presolve removed 233 rows and 2316 columns\r\n",
      "Presolve time: 0.02s\r\n",
      "Presolved: 192 rows, 156 columns, 641 nonzeros\r\n",
      "Presolved model has 32 second-order cone constraints\r\n",
      "Ordering time: 0.00s\r\n",
      "\r\n",
      "Barrier statistics:\r\n",
      " AA' NZ     : 1.236e+03\r\n",
      " Factor NZ  : 2.072e+03\r\n",
      " Factor Ops : 2.537e+04 (less than 1 second per iteration)\r\n",
      " Threads    : 1\r\n",
      "\r\n",
      "                  Objective                Residual\r\n",
      "Iter       Primal          Dual         Primal    Dual     Compl     Time\r\n",
      "   0   1.25820284e+04 -8.04603665e+03  2.16e+00 9.59e+02  6.93e+02     0s\r\n",
      "   1   1.82677317e+03 -1.20033524e+04  3.66e-01 4.43e+01  1.19e+02     0s\r\n",
      "   2   2.61677207e+02 -3.78876798e+03  5.15e-02 3.71e+00  2.18e+01     0s\r\n",
      "   3   6.96718783e+01 -5.73102741e+02  1.12e-02 3.85e-01  3.38e+00     0s\r\n",
      "   4   2.10493241e+01 -5.84135673e+01  2.38e-03 3.97e-02  4.69e-01     0s\r\n",
      "   5   5.46248544e+00 -3.98929602e+00  2.39e-04 3.91e-03  5.50e-02     0s\r\n",
      "   6   4.08941310e+00  3.27624883e+00  3.93e-07 2.39e-05  3.25e-03     0s\r\n",
      "   7   3.96929254e+00  3.82036515e+00  1.07e-07 3.81e-06  5.93e-04     0s\r\n",
      "   8   3.93393387e+00  3.90310873e+00  4.39e-08 8.87e-07  1.23e-04     0s\r\n",
      "   9   3.92208445e+00  3.91511536e+00  7.92e-09 4.44e-09  2.77e-05     0s\r\n",
      "  10   3.91900061e+00  3.91700855e+00  2.63e-09 3.00e-09  7.93e-06     0s\r\n",
      "  11   3.91790073e+00  3.91757717e+00  4.28e-10 1.38e-08  1.29e-06     0s\r\n",
      "  12   3.91771620e+00  3.91765419e+00  9.46e-11 2.34e-08  2.46e-07     0s\r\n",
      "\r\n",
      "Barrier solved model in 12 iterations and 0.03 seconds (0.00 work units)\r\n",
      "Optimal objective 3.91771620e+00\r\n",
      "\r\n",
      "\r\n",
      "User-callback calls 102, time in user-callback 0.00 sec\r\n"
     ]
    }
   ],
   "source": [
    "Pgrid = -bus_Pinjection[slack_bus]*data[\"Sbase\"]\n",
    "Qgrid = -bus_Qinjection[slack_bus]*data[\"Sbase\"]\n",
    "\n",
    "@objective(model, Min, Pgrid)\n",
    "# Solve statement\n",
    "optimize!(model)"
   ]
  },
  {
   "cell_type": "markdown",
   "id": "43b8cc6b",
   "metadata": {},
   "source": [
    "## Results"
   ]
  },
  {
   "cell_type": "code",
   "execution_count": 12,
   "id": "a203e135",
   "metadata": {},
   "outputs": [
    {
     "name": "stdout",
     "output_type": "stream",
     "text": [
      "objective_value(model) = 3.9177161998591146\n",
      "value.(P) = [0.0 0.039177161998614096 0.0 0.0 0.0 0.0 0.0 0.0 0.0 0.0 0.0 0.0 0.0 0.0 0.0 0.0 0.0 0.0 0.0 0.0 0.0 0.0 0.0 0.0 0.0 0.0 0.0 0.0 0.0 0.0 0.0 0.0 0.0; -0.039054759797599314 0.0 0.03444331202116002 0.0 0.0 0.0 0.0 0.0 0.0 0.0 0.0 0.0 0.0 0.0 0.0 0.0 0.0 0.0 0.0036114477764392916 0.0 0.0 0.0 0.0 0.0 0.0 0.0 0.0 0.0 0.0 0.0 0.0 0.0 0.0; 0.0 -0.03392538486573425 0.0 0.02362924569465763 0.0 0.0 0.0 0.0 0.0 0.0 0.0 0.0 0.0 0.0 0.0 0.0 0.0 0.0 0.0 0.0 0.0 0.0 0.009396139171076623 0.0 0.0 0.0 0.0 0.0 0.0 0.0 0.0 0.0 0.0; 0.0 0.0 -0.023430233984585457 0.0 0.022230233984585457 0.0 0.0 0.0 0.0 0.0 0.0 0.0 0.0 0.0 0.0 0.0 0.0 0.0 0.0 0.0 0.0 0.0 0.0 0.0 0.0 0.0 0.0 0.0 0.0 0.0 0.0 0.0 0.0; 0.0 0.0 0.0 -0.022043236452943104 0.0 0.021443236452943104 0.0 0.0 0.0 0.0 0.0 0.0 0.0 0.0 0.0 0.0 0.0 0.0 0.0 0.0 0.0 0.0 0.0 0.0 0.0 0.0 0.0 0.0 0.0 0.0 0.0 0.0 0.0; 0.0 0.0 0.0 0.0 -0.021060735615109082 0.0 0.010952849401251963 0.0 0.0 0.0 0.0 0.0 0.0 0.0 0.0 0.0 0.0 0.0 0.0 0.0 0.0 0.0 0.0 0.0 0.0 0.00950788621385712 0.0 0.0 0.0 0.0 0.0 0.0 0.0; 0.0 0.0 0.0 0.0 0.0 -0.010933663231736944 0.0 0.008933663231736944 0.0 0.0 0.0 0.0 0.0 0.0 0.0 0.0 0.0 0.0 0.0 0.0 0.0 0.0 0.0 0.0 0.0 0.0 0.0 0.0 0.0 0.0 0.0 0.0 0.0; 0.0 0.0 0.0 0.0 0.0 0.0 -0.008885274126057439 0.0 0.006885274126057439 0.0 0.0 0.0 0.0 0.0 0.0 0.0 0.0 0.0 0.0 0.0 0.0 0.0 0.0 0.0 0.0 0.0 0.0 0.0 0.0 0.0 0.0 0.0 0.0; 0.0 0.0 0.0 0.0 0.0 0.0 0.0 -0.006843464051745251 0.0 0.006243464051745251 0.0 0.0 0.0 0.0 0.0 0.0 0.0 0.0 0.0 0.0 0.0 0.0 0.0 0.0 0.0 0.0 0.0 0.0 0.0 0.0 0.0 0.0 0.0; 0.0 0.0 0.0 0.0 0.0 0.0 0.0 0.0 -0.006207844725806665 0.0 0.0056078447258066655 0.0 0.0 0.0 0.0 0.0 0.0 0.0 0.0 0.0 0.0 0.0 0.0 0.0 0.0 0.0 0.0 0.0 0.0 0.0 0.0 0.0 0.0; 0.0 0.0 0.0 0.0 0.0 0.0 0.0 0.0 0.0 -0.005602292820758575 0.0 0.005152292820758575 0.0 0.0 0.0 0.0 0.0 0.0 0.0 0.0 0.0 0.0 0.0 0.0 0.0 0.0 0.0 0.0 0.0 0.0 0.0 0.0 0.0; 0.0 0.0 0.0 0.0 0.0 0.0 0.0 0.0 0.0 0.0 -0.005143468749096613 0.0 0.004543468749096613 0.0 0.0 0.0 0.0 0.0 0.0 0.0 0.0 0.0 0.0 0.0 0.0 0.0 0.0 0.0 0.0 0.0 0.0 0.0 0.0; 0.0 0.0 0.0 0.0 0.0 0.0 0.0 0.0 0.0 0.0 0.0 -0.004516801061485175 0.0 0.003916801061485176 0.0 0.0 0.0 0.0 0.0 0.0 0.0 0.0 0.0 0.0 0.0 0.0 0.0 0.0 0.0 0.0 0.0 0.0 0.0; 0.0 0.0 0.0 0.0 0.0 0.0 0.0 0.0 0.0 0.0 0.0 0.0 -0.0039094869336073965 0.0 0.002709486933607397 0.0 0.0 0.0 0.0 0.0 0.0 0.0 0.0 0.0 0.0 0.0 0.0 0.0 0.0 0.0 0.0 0.0 0.0; 0.0 0.0 0.0 0.0 0.0 0.0 0.0 0.0 0.0 0.0 0.0 0.0 0.0 -0.0027058985460857825 0.0 0.0021058985460857826 0.0 0.0 0.0 0.0 0.0 0.0 0.0 0.0 0.0 0.0 0.0 0.0 0.0 0.0 0.0 0.0 0.0; 0.0 0.0 0.0 0.0 0.0 0.0 0.0 0.0 0.0 0.0 0.0 0.0 0.0 0.0 -0.002103059349048763 0.0 0.0015030593490487631 0.0 0.0 0.0 0.0 0.0 0.0 0.0 0.0 0.0 0.0 0.0 0.0 0.0 0.0 0.0 0.0; 0.0 0.0 0.0 0.0 0.0 0.0 0.0 0.0 0.0 0.0 0.0 0.0 0.0 0.0 0.0 -0.0015005359881463225 0.0 0.0009005359881463226 0.0 0.0 0.0 0.0 0.0 0.0 0.0 0.0 0.0 0.0 0.0 0.0 0.0 0.0 0.0; 0.0 0.0 0.0 0.0 0.0 0.0 0.0 0.0 0.0 0.0 0.0 0.0 0.0 0.0 0.0 0.0 -0.0009 0.0 0.0 0.0 0.0 0.0 0.0 0.0 0.0 0.0 0.0 0.0 0.0 0.0 0.0 0.0 0.0; 0.0 -0.0036098334954054335 0.0 0.0 0.0 0.0 0.0 0.0 0.0 0.0 0.0 0.0 0.0 0.0 0.0 0.0 0.0 0.0 0.0 0.0027098334954054337 0.0 0.0 0.0 0.0 0.0 0.0 0.0 0.0 0.0 0.0 0.0 0.0 0.0; 0.0 0.0 0.0 0.0 0.0 0.0 0.0 0.0 0.0 0.0 0.0 0.0 0.0 0.0 0.0 0.0 0.0 0.0 -0.0027015061198246582 0.0 0.0018015061198246585 0.0 0.0 0.0 0.0 0.0 0.0 0.0 0.0 0.0 0.0 0.0 0.0; 0.0 0.0 0.0 0.0 0.0 0.0 0.0 0.0 0.0 0.0 0.0 0.0 0.0 0.0 0.0 0.0 0.0 0.0 0.0 -0.0018004419285172371 0.0 0.0009004419285172371 0.0 0.0 0.0 0.0 0.0 0.0 0.0 0.0 0.0 0.0 0.0; 0.0 0.0 0.0 0.0 0.0 0.0 0.0 0.0 0.0 0.0 0.0 0.0 0.0 0.0 0.0 0.0 0.0 0.0 0.0 0.0 -0.0009 0.0 0.0 0.0 0.0 0.0 0.0 0.0 0.0 0.0 0.0 0.0 0.0; 0.0 0.0 -0.009364320715650064 0.0 0.0 0.0 0.0 0.0 0.0 0.0 0.0 0.0 0.0 0.0 0.0 0.0 0.0 0.0 0.0 0.0 0.0 0.0 0.0 0.008464320715650064 0.0 0.0 0.0 0.0 0.0 0.0 0.0 0.0 0.0; 0.0 0.0 0.0 0.0 0.0 0.0 0.0 0.0 0.0 0.0 0.0 0.0 0.0 0.0 0.0 0.0 0.0 0.0 0.0 0.0 0.0 0.0 -0.00841287831736805 0.0 0.004212878317368052 0.0 0.0 0.0 0.0 0.0 0.0 0.0 0.0; 0.0 0.0 0.0 0.0 0.0 0.0 0.0 0.0 0.0 0.0 0.0 0.0 0.0 0.0 0.0 0.0 0.0 0.0 0.0 0.0 0.0 0.0 0.0 -0.0042 0.0 0.0 0.0 0.0 0.0 0.0 0.0 0.0 0.0; 0.0 0.0 0.0 0.0 0.0 -0.009481873745862911 0.0 0.0 0.0 0.0 0.0 0.0 0.0 0.0 0.0 0.0 0.0 0.0 0.0 0.0 0.0 0.0 0.0 0.0 0.0 0.0 0.008881873745862912 0.0 0.0 0.0 0.0 0.0 0.0; 0.0 0.0 0.0 0.0 0.0 0.0 0.0 0.0 0.0 0.0 0.0 0.0 0.0 0.0 0.0 0.0 0.0 0.0 0.0 0.0 0.0 0.0 0.0 0.0 0.0 -0.008848573233192058 0.0 0.008248573233192058 0.0 0.0 0.0 0.0 0.0; 0.0 0.0 0.0 0.0 0.0 0.0 0.0 0.0 0.0 0.0 0.0 0.0 0.0 0.0 0.0 0.0 0.0 0.0 0.0 0.0 0.0 0.0 0.0 0.0 0.0 0.0 -0.008135560432523902 0.0 0.007535560432523902 0.0 0.0 0.0 0.0; 0.0 0.0 0.0 0.0 0.0 0.0 0.0 0.0 0.0 0.0 0.0 0.0 0.0 0.0 0.0 0.0 0.0 0.0 0.0 0.0 0.0 0.0 0.0 0.0 0.0 0.0 0.0 -0.007457224211025258 0.0 0.0062572242110252585 0.0 0.0 0.0; 0.0 0.0 0.0 0.0 0.0 0.0 0.0 0.0 0.0 0.0 0.0 0.0 0.0 0.0 0.0 0.0 0.0 0.0 0.0 0.0 0.0 0.0 0.0 0.0 0.0 0.0 0.0 0.0 -0.006218252053834637 0.0 0.004218252053834637 0.0 0.0; 0.0 0.0 0.0 0.0 0.0 0.0 0.0 0.0 0.0 0.0 0.0 0.0 0.0 0.0 0.0 0.0 0.0 0.0 0.0 0.0 0.0 0.0 0.0 0.0 0.0 0.0 0.0 0.0 0.0 -0.004202309043119632 0.0 0.002702309043119633 0.0; 0.0 0.0 0.0 0.0 0.0 0.0 0.0 0.0 0.0 0.0 0.0 0.0 0.0 0.0 0.0 0.0 0.0 0.0 0.0 0.0 0.0 0.0 0.0 0.0 0.0 0.0 0.0 0.0 0.0 0.0 -0.0027001603480185745 0.0 0.0006001603480185747; 0.0 0.0 0.0 0.0 0.0 0.0 0.0 0.0 0.0 0.0 0.0 0.0 0.0 0.0 0.0 0.0 0.0 0.0 0.0 0.0 0.0 0.0 0.0 0.0 0.0 0.0 0.0 0.0 0.0 0.0 0.0 -0.0006 0.0]\n"
     ]
    }
   ],
   "source": [
    "@show objective_value(model);\n",
    "@show value.(P);"
   ]
  },
  {
   "cell_type": "code",
   "execution_count": null,
   "id": "d8731db1",
   "metadata": {},
   "outputs": [],
   "source": []
  }
 ],
 "metadata": {
  "kernelspec": {
   "display_name": "Julia 1.8.3",
   "language": "julia",
   "name": "julia-1.8"
  },
  "language_info": {
   "file_extension": ".jl",
   "mimetype": "application/julia",
   "name": "julia",
   "version": "1.8.3"
  }
 },
 "nbformat": 4,
 "nbformat_minor": 5
}
